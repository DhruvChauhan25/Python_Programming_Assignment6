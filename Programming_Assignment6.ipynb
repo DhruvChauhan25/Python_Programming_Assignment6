{
 "cells": [
  {
   "cell_type": "markdown",
   "id": "5c44fa8e",
   "metadata": {},
   "source": [
    "# 1. Write a Python Program to Display Fibonacci Sequence Using Recursion? "
   ]
  },
  {
   "cell_type": "code",
   "execution_count": 8,
   "id": "d6fe0e2e",
   "metadata": {},
   "outputs": [
    {
     "name": "stdout",
     "output_type": "stream",
     "text": [
      "Enter the no of elements:5\n",
      "0\n",
      "1\n",
      "1\n",
      "2\n",
      "3\n"
     ]
    }
   ],
   "source": [
    "def fib(n):\n",
    "    if n<=1:\n",
    "        return n\n",
    "    return  fib(n-1)+fib(n-2)\n",
    "    \n",
    "n=int(input(\"Enter the no of elements:\"))\n",
    "res=fib(n)\n",
    "for i in range(n):\n",
    "    print(fib(i))"
   ]
  },
  {
   "cell_type": "markdown",
   "id": "003797c8",
   "metadata": {},
   "source": [
    "# 2. Write a Python Program to Find Factorial of Number Using Recursion?"
   ]
  },
  {
   "cell_type": "code",
   "execution_count": 6,
   "id": "e813310d",
   "metadata": {},
   "outputs": [
    {
     "name": "stdout",
     "output_type": "stream",
     "text": [
      "Enter a number:5\n",
      "120\n"
     ]
    }
   ],
   "source": [
    "def fac(n):\n",
    "    if n<=1:\n",
    "        return n\n",
    "    else:\n",
    "        return n*(fac(n-1))\n",
    "n=int(input(\"Enter a number\"))\n",
    "result=fac(n)\n",
    "print(result)"
   ]
  },
  {
   "cell_type": "markdown",
   "id": "776e6b67",
   "metadata": {},
   "source": [
    "# 3. Write a Python Program to calculate your Body Mass Index?"
   ]
  },
  {
   "cell_type": "code",
   "execution_count": 9,
   "id": "423dcb58",
   "metadata": {},
   "outputs": [
    {
     "name": "stdout",
     "output_type": "stream",
     "text": [
      "1 meter =100 centimeter \n",
      "\n",
      "Enter the height in meter1.52\n",
      "Enter the weight in kilograms60\n",
      "The BMI of a person is 25.969529085872576\n"
     ]
    }
   ],
   "source": [
    "def bmi(height,weight):\n",
    "    return weight/(height**2)\n",
    "\n",
    "print(\"1 meter =100 centimeter\",'\\n')\n",
    "height=float(input(\"Enter the height in meter\"))\n",
    "weight=float(input(\"Enter the weight in kilograms\"))\n",
    "res=bmi(height,weight)\n",
    "print(f\"The BMI of a person is {res}\")\n"
   ]
  },
  {
   "cell_type": "markdown",
   "id": "0d45de06",
   "metadata": {},
   "source": [
    "# 4. Write a Python Program to calculate the natural logarithm of any number?"
   ]
  },
  {
   "cell_type": "code",
   "execution_count": 10,
   "id": "8aa90a20",
   "metadata": {},
   "outputs": [
    {
     "name": "stdout",
     "output_type": "stream",
     "text": [
      "Enter the number:5\n",
      "The logarithm of 5 is 1.6094379124341003\n"
     ]
    }
   ],
   "source": [
    "import math\n",
    "n=int(input(\"Enter the number:\"))\n",
    "ans=math.log(n)\n",
    "print(f\"The logarithm of {n} is {ans}\")"
   ]
  },
  {
   "cell_type": "markdown",
   "id": "5203c01e",
   "metadata": {},
   "source": [
    "# 5. Write a Python Program for cube sum of first n natural numbers?"
   ]
  },
  {
   "cell_type": "code",
   "execution_count": 14,
   "id": "dba5824b",
   "metadata": {},
   "outputs": [
    {
     "name": "stdout",
     "output_type": "stream",
     "text": [
      "Enter the number:3\n",
      "The cube sum of n natural number is:36\n"
     ]
    }
   ],
   "source": [
    "n=int(input(\"Enter the number:\"))\n",
    "ans=0\n",
    "for i in range(n+1):\n",
    "    ans+=i**3\n",
    "print(f\"The cube sum of n natural number is:{ans}\")\n"
   ]
  },
  {
   "cell_type": "code",
   "execution_count": null,
   "id": "173f2f4c",
   "metadata": {},
   "outputs": [],
   "source": []
  }
 ],
 "metadata": {
  "kernelspec": {
   "display_name": "Python 3 (ipykernel)",
   "language": "python",
   "name": "python3"
  },
  "language_info": {
   "codemirror_mode": {
    "name": "ipython",
    "version": 3
   },
   "file_extension": ".py",
   "mimetype": "text/x-python",
   "name": "python",
   "nbconvert_exporter": "python",
   "pygments_lexer": "ipython3",
   "version": "3.9.7"
  }
 },
 "nbformat": 4,
 "nbformat_minor": 5
}
